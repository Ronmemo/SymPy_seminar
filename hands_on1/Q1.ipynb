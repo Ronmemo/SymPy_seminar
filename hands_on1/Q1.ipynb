{
 "cells": [
  {
   "cell_type": "code",
   "execution_count": 1,
   "metadata": {},
   "outputs": [],
   "source": [
    "import sympy as sym\n",
    "from sympy.plotting import plot\n",
    "sym.init_printing(use_unicode=True)\n",
    "%matplotlib inline"
   ]
  },
  {
   "cell_type": "markdown",
   "metadata": {},
   "source": [
    "# 下準備"
   ]
  },
  {
   "cell_type": "code",
   "execution_count": 2,
   "metadata": {},
   "outputs": [],
   "source": [
    "# 変数の定義，適宜変更すること\n",
    "from sympy.abc import a, b, c, d, x, y"
   ]
  },
  {
   "cell_type": "markdown",
   "metadata": {},
   "source": [
    "問題：問題を自らで考えよ。"
   ]
  },
  {
   "cell_type": "markdown",
   "metadata": {},
   "source": [
    "# 数式の記述，グラフ"
   ]
  },
  {
   "cell_type": "markdown",
   "metadata": {},
   "source": [
    "問題：以下の関数（右辺を書いて）を表示して，指定した範囲で図示せよ。"
   ]
  },
  {
   "cell_type": "markdown",
   "metadata": {},
   "source": [
    "(1)\n",
    "$$\n",
    "f(x) = x^2-12x+8 \\ (-15 \\le x \\le 15)\n",
    "$$"
   ]
  },
  {
   "cell_type": "markdown",
   "metadata": {},
   "source": [
    "(2)\n",
    "$$\n",
    "f(x) = | x^2 -3 | \\ (-5 \\le x \\le 5)\n",
    "$$"
   ]
  },
  {
   "cell_type": "markdown",
   "metadata": {},
   "source": [
    "(3)\n",
    "$$\n",
    "f(x) = x ^ 2 + 4\\sin 2x\\ (-2\\pi \\le x \\le 2\\pi)\n",
    "$$"
   ]
  },
  {
   "cell_type": "markdown",
   "metadata": {},
   "source": [
    "(4)(小数のまま解いてもよい)\n",
    "$$\n",
    "f(x) = 2x + 1 \\\\\n",
    "g(x) = -\\frac{1}{2}x + 1 \\\\\n",
    "(-5 \\le x \\le 5)\n",
    "$$"
   ]
  },
  {
   "cell_type": "markdown",
   "metadata": {},
   "source": [
    "(5)（信州大 2012）\n",
    "$$\n",
    "f(x) = \\sqrt{|x|} + \\sqrt{5 - x^2}\\\\\n",
    "g(x) = \\sqrt{|x|} - \\sqrt{5 - x^2}\\\\\n",
    "(-\\sqrt{5} \\le x \\le \\sqrt{5})\n",
    "$$"
   ]
  },
  {
   "cell_type": "markdown",
   "metadata": {},
   "source": [
    "(6)媒介変数表示（センター2B 2015）\n",
    "$$\n",
    "x = 2 \\cos t + \\cos 7t \\\\\n",
    "y = 2 \\sin t + \\sin 7t \\\\\n",
    "(0 \\le t \\le 2 \\pi)\n",
    "$$"
   ]
  },
  {
   "cell_type": "markdown",
   "metadata": {},
   "source": [
    "# 方程式"
   ]
  },
  {
   "cell_type": "markdown",
   "metadata": {},
   "source": [
    "問題：以下の方程式を解け。"
   ]
  },
  {
   "cell_type": "markdown",
   "metadata": {},
   "source": [
    "(1)\n",
    "$$\n",
    "x^2-12x+8 = 0\n",
    "$$"
   ]
  },
  {
   "cell_type": "markdown",
   "metadata": {},
   "source": [
    "(2)（2008 早稲田大／商）\n",
    "$$\n",
    "x^3 + \\frac{1}{x^3} = 52\n",
    "$$"
   ]
  },
  {
   "cell_type": "markdown",
   "metadata": {},
   "source": [
    "(3)\n",
    "$$\n",
    "a x^3 + bx^2 + cx + d = 0\n",
    "$$"
   ]
  },
  {
   "cell_type": "markdown",
   "metadata": {},
   "source": [
    "(4)（2018 福島大 人文社会）\n",
    "$$\n",
    "x + y = 5 \\\\\n",
    "x^3 + y^3 = 35\n",
    "$$"
   ]
  },
  {
   "cell_type": "markdown",
   "metadata": {},
   "source": [
    "(5)\n",
    "$$\n",
    "x+y=12 \\\\\n",
    "y+z=13 \\\\\n",
    "z+x=15\n",
    "$$"
   ]
  },
  {
   "cell_type": "markdown",
   "metadata": {},
   "source": [
    "# 極限"
   ]
  },
  {
   "cell_type": "markdown",
   "metadata": {},
   "source": [
    "問題：以下の関数の極限を求めよ。（余裕があればグラフを書くとよい）"
   ]
  },
  {
   "cell_type": "markdown",
   "metadata": {},
   "source": [
    "(1)\n",
    "$$\n",
    "\\lim_{x \\to 0} (x^2-12x+8)\n",
    "$$"
   ]
  },
  {
   "cell_type": "markdown",
   "metadata": {},
   "source": [
    "(2)\n",
    "$$\n",
    "\\lim_{x \\to \\infty} (2x^3-3x^2)\n",
    "$$"
   ]
  },
  {
   "cell_type": "markdown",
   "metadata": {},
   "source": [
    "(3)\n",
    "$$\n",
    "\\lim_{x \\to 0} \\frac{x}{\\sin x}\n",
    "$$"
   ]
  },
  {
   "cell_type": "markdown",
   "metadata": {},
   "source": [
    "(4)\n",
    "$$\n",
    "\\lim_{x \\to \\infty} (1 + \\frac{1}{x})^x\n",
    "$$"
   ]
  },
  {
   "cell_type": "markdown",
   "metadata": {},
   "source": [
    "(5)（東海大医 2017）\n",
    "$$\n",
    "\\lim_{x \\to -\\infty} \\sqrt{9x^2 - 7x + 5} + 3x\n",
    "$$"
   ]
  },
  {
   "cell_type": "markdown",
   "metadata": {},
   "source": [
    "# 微分"
   ]
  },
  {
   "cell_type": "markdown",
   "metadata": {},
   "source": [
    "問題：以下の関数の微分を求めよ。"
   ]
  },
  {
   "cell_type": "markdown",
   "metadata": {},
   "source": [
    "(1)\n",
    "$$\n",
    "\\frac{d}{dx}(x^2-12x+8)\n",
    "$$"
   ]
  },
  {
   "cell_type": "markdown",
   "metadata": {},
   "source": [
    "(2)\n",
    "$$\n",
    "\\frac{d}{dx}(\\sqrt{x})\n",
    "$$"
   ]
  },
  {
   "cell_type": "markdown",
   "metadata": {},
   "source": [
    "(3)\n",
    "$$\n",
    "\\frac{d}{dx}(\\frac{x}{e^x})\n",
    "$$"
   ]
  },
  {
   "cell_type": "markdown",
   "metadata": {},
   "source": [
    "(4)\n",
    "$$\n",
    "\\frac{d}{dx}(x^x)\n",
    "$$"
   ]
  },
  {
   "cell_type": "markdown",
   "metadata": {},
   "source": [
    "(5)（愛媛大 2003）\n",
    "$$\n",
    "\\frac{d}{dx}(x - \\sin 2x)\n",
    "$$"
   ]
  },
  {
   "cell_type": "markdown",
   "metadata": {},
   "source": [
    "# 積分"
   ]
  },
  {
   "cell_type": "markdown",
   "metadata": {},
   "source": [
    "問題：以下の関数の積分を求めよ。"
   ]
  },
  {
   "cell_type": "markdown",
   "metadata": {},
   "source": [
    "(1)\n",
    "$$\n",
    "\\int(x^2-12x+8)dx\n",
    "$$"
   ]
  },
  {
   "cell_type": "markdown",
   "metadata": {},
   "source": [
    "(2)\n",
    "$$\n",
    "\\int_{-1}^1(2x^3 - 3x^2 - 5x + 7)dx\n",
    "$$"
   ]
  },
  {
   "cell_type": "markdown",
   "metadata": {},
   "source": [
    "(3)\n",
    "$$\n",
    "\\int(\\sin 2x \\cos 2x)dx\n",
    "$$"
   ]
  },
  {
   "cell_type": "markdown",
   "metadata": {},
   "source": [
    "(4)（星薬科大 2019）\n",
    "$$\n",
    "\\int_{-1}^1 (|x^2 - x| + \\frac{1}{3})dx\n",
    "$$"
   ]
  },
  {
   "cell_type": "markdown",
   "metadata": {},
   "source": [
    "(5)（横浜国大 2003）\n",
    "$$\n",
    "\\int_1^e(5^{\\log x})dx\n",
    "$$"
   ]
  },
  {
   "cell_type": "code",
   "execution_count": null,
   "metadata": {},
   "outputs": [],
   "source": []
  }
 ],
 "metadata": {
  "kernelspec": {
   "display_name": "Python 3",
   "language": "python",
   "name": "python3"
  },
  "language_info": {
   "codemirror_mode": {
    "name": "ipython",
    "version": 3
   },
   "file_extension": ".py",
   "mimetype": "text/x-python",
   "name": "python",
   "nbconvert_exporter": "python",
   "pygments_lexer": "ipython3",
   "version": "3.6.6"
  },
  "toc": {
   "base_numbering": 1,
   "nav_menu": {},
   "number_sections": true,
   "sideBar": true,
   "skip_h1_title": false,
   "title_cell": "Table of Contents",
   "title_sidebar": "Contents",
   "toc_cell": false,
   "toc_position": {},
   "toc_section_display": true,
   "toc_window_display": false
  }
 },
 "nbformat": 4,
 "nbformat_minor": 2
}
