{
 "cells": [
  {
   "cell_type": "code",
   "execution_count": null,
   "metadata": {},
   "outputs": [],
   "source": [
    "import numpy as np\n",
    "import matplotlib.pyplot as plt"
   ]
  },
  {
   "cell_type": "code",
   "execution_count": null,
   "metadata": {},
   "outputs": [],
   "source": [
    "def Average_change_rate(f, a, b):\n",
    "    delta_x = b - a\n",
    "    delta_y = f(b) - f(a)\n",
    "    return delta_y / delta_x\n",
    "\n",
    "\n",
    "def funcion(x):\n",
    "    return x ** 2\n",
    "\n",
    "\n",
    "a = 1\n",
    "b = 4\n",
    "\n",
    "print(\"平均変化率：\", Average_change_rate(funcion, a, b))\n",
    "\n",
    "x = np.arange(-3.0, 5.0, 0.1)\n",
    "\n",
    "y = funcion(x)\n",
    "d = Average_change_rate(funcion, a, b)\n",
    "y2 = d * x + funcion(a) - d*a\n",
    "\n",
    "plt.plot(x, y)\n",
    "plt.plot(x, y2)\n",
    "plt.show()"
   ]
  },
  {
   "cell_type": "code",
   "execution_count": null,
   "metadata": {},
   "outputs": [],
   "source": [
    "# 2点近似\n",
    "def derivative(f, x, h):\n",
    "    return (f(x+h) - f(x)) / (h)\n",
    "\n",
    "\n",
    "def funcion(x):\n",
    "    return x ** 2\n",
    "\n",
    "\n",
    "a = 1\n",
    "h = np.array([1, 1e-1, 1e-2, 1e-3, 1e-4])\n",
    "\n",
    "print(derivative(funcion, a, h))"
   ]
  },
  {
   "cell_type": "code",
   "execution_count": null,
   "metadata": {},
   "outputs": [],
   "source": [
    "x = np.arange(-3.0, 5.0, 0.1)\n",
    "h = 1e-4\n",
    "a = 1\n",
    "\n",
    "y = funcion(x)\n",
    "d = derivative(funcion, a, h)\n",
    "y2 = funcion(a) + d * (x - a)\n",
    "\n",
    "print(\"微分係数：\", d)\n",
    "\n",
    "plt.plot(x, y)\n",
    "plt.plot(x, y2)\n",
    "plt.show()"
   ]
  },
  {
   "cell_type": "code",
   "execution_count": null,
   "metadata": {},
   "outputs": [],
   "source": [
    "# 中心差分\n",
    "def derivative2(f, x, h):\n",
    "    return (f(x+h) - f(x-h)) / (2*h)\n",
    "\n",
    "\n",
    "def funcion(x):\n",
    "    return x ** 2\n",
    "\n",
    "\n",
    "x = np.arange(-3.0, 5.0, 0.1)\n",
    "h = 1e-4\n",
    "a = 1\n",
    "\n",
    "y = funcion(x)\n",
    "d = derivative2(funcion, a, h)\n",
    "y2 = funcion(a) + d * (x - a)\n",
    "\n",
    "print(\"微分係数：\", d)\n",
    "\n",
    "plt.plot(x, y)\n",
    "plt.plot(x, y2)\n",
    "plt.show()"
   ]
  },
  {
   "cell_type": "code",
   "execution_count": null,
   "metadata": {},
   "outputs": [],
   "source": []
  }
 ],
 "metadata": {
  "kernelspec": {
   "display_name": "Python 3",
   "language": "python",
   "name": "python3"
  },
  "language_info": {
   "codemirror_mode": {
    "name": "ipython",
    "version": 3
   },
   "file_extension": ".py",
   "mimetype": "text/x-python",
   "name": "python",
   "nbconvert_exporter": "python",
   "pygments_lexer": "ipython3",
   "version": "3.6.6"
  },
  "toc": {
   "base_numbering": 1,
   "nav_menu": {},
   "number_sections": true,
   "sideBar": true,
   "skip_h1_title": false,
   "title_cell": "Table of Contents",
   "title_sidebar": "Contents",
   "toc_cell": false,
   "toc_position": {},
   "toc_section_display": true,
   "toc_window_display": false
  }
 },
 "nbformat": 4,
 "nbformat_minor": 2
}
