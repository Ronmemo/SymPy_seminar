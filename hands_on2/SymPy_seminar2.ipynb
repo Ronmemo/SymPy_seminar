{
 "cells": [
  {
   "cell_type": "code",
   "execution_count": 1,
   "metadata": {},
   "outputs": [],
   "source": [
    "import numpy as np\n",
    "import sympy as sym\n",
    "from sympy.solvers import ode\n",
    "from sympy.plotting import plot\n",
    "sym.init_printing(use_unicode=True)\n",
    "%matplotlib inline"
   ]
  },
  {
   "cell_type": "markdown",
   "metadata": {},
   "source": [
    "# 線形代数基礎"
   ]
  },
  {
   "cell_type": "code",
   "execution_count": 2,
   "metadata": {},
   "outputs": [
    {
     "data": {
      "text/latex": [
       "$\\displaystyle \\left[\\begin{matrix}1 & 2 & 3\\\\4 & 5 & 6\\end{matrix}\\right]$"
      ],
      "text/plain": [
       "⎡1  2  3⎤\n",
       "⎢       ⎥\n",
       "⎣4  5  6⎦"
      ]
     },
     "execution_count": 2,
     "metadata": {},
     "output_type": "execute_result"
    }
   ],
   "source": [
    "#行列の記法\n",
    "A1_s = sym.Matrix([\n",
    "    [1, 2, 3],\n",
    "    [4, 5, 6]\n",
    "])\n",
    "A1_s"
   ]
  },
  {
   "cell_type": "code",
   "execution_count": 3,
   "metadata": {},
   "outputs": [
    {
     "data": {
      "text/plain": [
       "array([[1, 2, 3],\n",
       "       [4, 5, 6]])"
      ]
     },
     "execution_count": 3,
     "metadata": {},
     "output_type": "execute_result"
    }
   ],
   "source": [
    "A1_n = np.array([\n",
    "    [1, 2, 3],\n",
    "    [4, 5, 6]\n",
    "])\n",
    "A1_n"
   ]
  },
  {
   "cell_type": "code",
   "execution_count": 4,
   "metadata": {},
   "outputs": [
    {
     "data": {
      "text/latex": [
       "$\\displaystyle \\left[\\begin{matrix}1 & 4\\\\2 & 5\\\\3 & 6\\end{matrix}\\right]$"
      ],
      "text/plain": [
       "⎡1  4⎤\n",
       "⎢    ⎥\n",
       "⎢2  5⎥\n",
       "⎢    ⎥\n",
       "⎣3  6⎦"
      ]
     },
     "execution_count": 4,
     "metadata": {},
     "output_type": "execute_result"
    }
   ],
   "source": [
    "#転置\n",
    "A1_s.T"
   ]
  },
  {
   "cell_type": "code",
   "execution_count": 5,
   "metadata": {},
   "outputs": [
    {
     "data": {
      "text/plain": [
       "array([[1, 4],\n",
       "       [2, 5],\n",
       "       [3, 6]])"
      ]
     },
     "execution_count": 5,
     "metadata": {},
     "output_type": "execute_result"
    }
   ],
   "source": [
    "A1_n.T"
   ]
  },
  {
   "cell_type": "code",
   "execution_count": 6,
   "metadata": {},
   "outputs": [
    {
     "data": {
      "text/plain": [
       "array([[1, 2, 3],\n",
       "       [4, 5, 6]])"
      ]
     },
     "execution_count": 6,
     "metadata": {},
     "output_type": "execute_result"
    }
   ],
   "source": [
    "#SymPyからNumPyへの変換\n",
    "A1_n == sym.matrix2numpy(A1_s)\n",
    "A1_n"
   ]
  },
  {
   "cell_type": "code",
   "execution_count": 7,
   "metadata": {},
   "outputs": [
    {
     "data": {
      "text/latex": [
       "$\\displaystyle \\left[\\begin{matrix}0 & 0 & 0\\\\0 & 0 & 0\\end{matrix}\\right]$"
      ],
      "text/plain": [
       "⎡0  0  0⎤\n",
       "⎢       ⎥\n",
       "⎣0  0  0⎦"
      ]
     },
     "execution_count": 7,
     "metadata": {},
     "output_type": "execute_result"
    }
   ],
   "source": [
    "sym.Matrix.zeros(2, 3)"
   ]
  },
  {
   "cell_type": "code",
   "execution_count": 8,
   "metadata": {},
   "outputs": [
    {
     "data": {
      "text/plain": [
       "array([[0., 0., 0.],\n",
       "       [0., 0., 0.]])"
      ]
     },
     "execution_count": 8,
     "metadata": {},
     "output_type": "execute_result"
    }
   ],
   "source": [
    "np.zeros([2, 3])"
   ]
  },
  {
   "cell_type": "code",
   "execution_count": 10,
   "metadata": {},
   "outputs": [
    {
     "data": {
      "text/latex": [
       "$\\displaystyle \\left[\\begin{matrix}1 & 0 & 0\\\\0 & 1 & 0\\\\0 & 0 & 1\\end{matrix}\\right]$"
      ],
      "text/plain": [
       "⎡1  0  0⎤\n",
       "⎢       ⎥\n",
       "⎢0  1  0⎥\n",
       "⎢       ⎥\n",
       "⎣0  0  1⎦"
      ]
     },
     "execution_count": 10,
     "metadata": {},
     "output_type": "execute_result"
    }
   ],
   "source": [
    "#単位行列\n",
    "sym.eye(3)"
   ]
  },
  {
   "cell_type": "code",
   "execution_count": 11,
   "metadata": {},
   "outputs": [
    {
     "data": {
      "text/plain": [
       "array([[1., 0., 0.],\n",
       "       [0., 1., 0.],\n",
       "       [0., 0., 1.]])"
      ]
     },
     "execution_count": 11,
     "metadata": {},
     "output_type": "execute_result"
    }
   ],
   "source": [
    "np.eye(3)"
   ]
  },
  {
   "cell_type": "code",
   "execution_count": 12,
   "metadata": {},
   "outputs": [
    {
     "data": {
      "text/latex": [
       "$\\displaystyle \\left[\\begin{matrix}1 & 1 & 1\\\\1 & 1 & 1\\\\1 & 1 & 1\\end{matrix}\\right]$"
      ],
      "text/plain": [
       "⎡1  1  1⎤\n",
       "⎢       ⎥\n",
       "⎢1  1  1⎥\n",
       "⎢       ⎥\n",
       "⎣1  1  1⎦"
      ]
     },
     "execution_count": 12,
     "metadata": {},
     "output_type": "execute_result"
    }
   ],
   "source": [
    "sym.ones(3)"
   ]
  },
  {
   "cell_type": "code",
   "execution_count": 13,
   "metadata": {},
   "outputs": [
    {
     "data": {
      "text/plain": [
       "array([1., 1., 1.])"
      ]
     },
     "execution_count": 13,
     "metadata": {},
     "output_type": "execute_result"
    }
   ],
   "source": [
    "np.ones(3)"
   ]
  },
  {
   "cell_type": "code",
   "execution_count": 14,
   "metadata": {},
   "outputs": [
    {
     "data": {
      "text/latex": [
       "$\\displaystyle \\left[\\begin{matrix}1 & 0 & 0\\\\0 & 2 & 0\\\\0 & 0 & 3\\end{matrix}\\right]$"
      ],
      "text/plain": [
       "⎡1  0  0⎤\n",
       "⎢       ⎥\n",
       "⎢0  2  0⎥\n",
       "⎢       ⎥\n",
       "⎣0  0  3⎦"
      ]
     },
     "execution_count": 14,
     "metadata": {},
     "output_type": "execute_result"
    }
   ],
   "source": [
    "#対角行列\n",
    "sym.diag(1, 2, 3)"
   ]
  },
  {
   "cell_type": "code",
   "execution_count": 15,
   "metadata": {
    "scrolled": true
   },
   "outputs": [
    {
     "data": {
      "text/plain": [
       "array([[1, 0, 0],\n",
       "       [0, 2, 0],\n",
       "       [0, 0, 3]])"
      ]
     },
     "execution_count": 15,
     "metadata": {},
     "output_type": "execute_result"
    }
   ],
   "source": [
    "np.diag([1, 2, 3])"
   ]
  },
  {
   "cell_type": "code",
   "execution_count": 75,
   "metadata": {},
   "outputs": [
    {
     "data": {
      "image/png": "[encoded data removed]",
      "text/latex": [
       "$\\displaystyle -1$"
      ],
      "text/plain": [
       "-1"
      ]
     },
     "execution_count": 75,
     "metadata": {},
     "output_type": "execute_result"
    }
   ],
   "source": [
    "#行列式\n",
    "A_s = sym.Matrix([\n",
    "    [1,2,3],\n",
    "    [2,3,4],\n",
    "    [1,1,2]\n",
    "])\n",
    "A_s.det()"
   ]
  },
  {
   "cell_type": "code",
   "execution_count": 76,
   "metadata": {},
   "outputs": [
    {
     "data": {
      "image/png": "[encoded data removed]",
      "text/latex": [
       "$\\displaystyle -1.0$"
      ],
      "text/plain": [
       "-1.0"
      ]
     },
     "execution_count": 76,
     "metadata": {},
     "output_type": "execute_result"
    }
   ],
   "source": [
    "A_n = np.array([\n",
    "    [1,2,3],\n",
    "    [2,3,4],\n",
    "    [1,1,2]\n",
    "])\n",
    "np.linalg.det(A_n)"
   ]
  },
  {
   "cell_type": "code",
   "execution_count": 77,
   "metadata": {},
   "outputs": [
    {
     "data": {
      "text/latex": [
       "$\\displaystyle \\left[\\begin{matrix}-2 & 1 & 1\\\\0 & 1 & -2\\\\1 & -1 & 1\\end{matrix}\\right]$"
      ],
      "text/plain": [
       "⎡-2  1   1 ⎤\n",
       "⎢          ⎥\n",
       "⎢0   1   -2⎥\n",
       "⎢          ⎥\n",
       "⎣1   -1  1 ⎦"
      ]
     },
     "execution_count": 77,
     "metadata": {},
     "output_type": "execute_result"
    }
   ],
   "source": [
    "#逆行列\n",
    "A_s.inverse_ADJ()"
   ]
  },
  {
   "cell_type": "code",
   "execution_count": 78,
   "metadata": {},
   "outputs": [
    {
     "data": {
      "text/plain": [
       "array([[-2.,  1.,  1.],\n",
       "       [ 0.,  1., -2.],\n",
       "       [ 1., -1.,  1.]])"
      ]
     },
     "execution_count": 78,
     "metadata": {},
     "output_type": "execute_result"
    }
   ],
   "source": [
    "np.linalg.inv(A_n)"
   ]
  },
  {
   "cell_type": "code",
   "execution_count": 16,
   "metadata": {},
   "outputs": [
    {
     "data": {
      "text/latex": [
       "$\\displaystyle \\left[\\begin{matrix}11 & 10 & 10\\\\10 & 12 & 10\\\\10 & 10 & 13\\end{matrix}\\right]$"
      ],
      "text/plain": [
       "⎡11  10  10⎤\n",
       "⎢          ⎥\n",
       "⎢10  12  10⎥\n",
       "⎢          ⎥\n",
       "⎣10  10  13⎦"
      ]
     },
     "execution_count": 16,
     "metadata": {},
     "output_type": "execute_result"
    }
   ],
   "source": [
    "#行列の和，スカラー積\n",
    "sym.diag(2, 4, 6) / 2 + 10 * sym.ones(3)"
   ]
  },
  {
   "cell_type": "code",
   "execution_count": 17,
   "metadata": {},
   "outputs": [
    {
     "data": {
      "text/latex": [
       "$\\displaystyle \\left[\\begin{matrix}1 & 7\\\\4 & 19\\end{matrix}\\right]$"
      ],
      "text/plain": [
       "⎡1  7 ⎤\n",
       "⎢     ⎥\n",
       "⎣4  19⎦"
      ]
     },
     "execution_count": 17,
     "metadata": {},
     "output_type": "execute_result"
    }
   ],
   "source": [
    "#行列積\n",
    "A_s = sym.Matrix([\n",
    "    [1,2,3],\n",
    "    [4,5,6]\n",
    "])\n",
    "B_s = sym.Matrix([\n",
    "    [1,2],\n",
    "    [0,1],\n",
    "    [0,1]\n",
    "])\n",
    "A_s * B_s"
   ]
  },
  {
   "cell_type": "code",
   "execution_count": 18,
   "metadata": {
    "scrolled": true
   },
   "outputs": [
    {
     "data": {
      "text/plain": [
       "array([[ 1,  7],\n",
       "       [ 4, 19]])"
      ]
     },
     "execution_count": 18,
     "metadata": {},
     "output_type": "execute_result"
    }
   ],
   "source": [
    "A_n = np.array([\n",
    "    [1,2,3],\n",
    "    [4,5,6]\n",
    "])\n",
    "B_n = np.array([\n",
    "    [1,2],\n",
    "    [0,1],\n",
    "    [0,1]\n",
    "])\n",
    "A_n.dot(B_n)"
   ]
  },
  {
   "cell_type": "markdown",
   "metadata": {},
   "source": [
    "## 問題演習\n",
    "\n",
    "板書参考"
   ]
  },
  {
   "cell_type": "markdown",
   "metadata": {},
   "source": [
    "# 微分方程式モデル"
   ]
  },
  {
   "cell_type": "markdown",
   "metadata": {},
   "source": [
    "## 人口変化のモデル"
   ]
  },
  {
   "cell_type": "markdown",
   "metadata": {},
   "source": [
    "### malthus増殖1\n",
    "$$\n",
    "\\frac{dN}{dt} = bN\n",
    "$$"
   ]
  },
  {
   "cell_type": "markdown",
   "metadata": {},
   "source": [
    "### malthus増殖2\n",
    "$$\n",
    "\\frac{dN}{dt} = bN - dN\n",
    "$$"
   ]
  },
  {
   "cell_type": "markdown",
   "metadata": {},
   "source": [
    "数値解"
   ]
  },
  {
   "cell_type": "code",
   "execution_count": 19,
   "metadata": {},
   "outputs": [],
   "source": [
    "%matplotlib inline\n",
    "import matplotlib.pyplot as plt\n",
    "\n",
    "import numpy as np"
   ]
  },
  {
   "cell_type": "code",
   "execution_count": 20,
   "metadata": {},
   "outputs": [],
   "source": [
    "def malthus(N0, b, d, dt, tEnd):\n",
    "    # 初期値\n",
    "    N = N0\n",
    "    t = 0.0\n",
    "\n",
    "    # 時間の設定\n",
    "    iEnd = int(tEnd/dt)+1\n",
    "\n",
    "    NList = [N]\n",
    "    tList = [t]\n",
    "    for i in range(iEnd):\n",
    "        t = dt*i\n",
    "        NN = N + dt * (b*N - d*N)\n",
    "        N = NN\n",
    "        tList.append(t)\n",
    "        NList.append(N)\n",
    "    return (tList, NList)"
   ]
  },
  {
   "cell_type": "code",
   "execution_count": 21,
   "metadata": {},
   "outputs": [],
   "source": [
    "# モデルのパラメータ1 b>d\n",
    "N0 = 1\n",
    "\n",
    "b = 0.3\n",
    "d = 0\n",
    "\n",
    "dt = 0.001\n",
    "tEnd=10\n",
    "\n",
    "tList, NList = malthus(N0, b, d, dt, tEnd)"
   ]
  },
  {
   "cell_type": "code",
   "execution_count": 22,
   "metadata": {},
   "outputs": [
    {
     "data": {
      "text/plain": [
       "[<matplotlib.lines.Line2D at 0x10dcc3d30>]"
      ]
     },
     "execution_count": 22,
     "metadata": {},
     "output_type": "execute_result"
    },
    {
     "data": {
      "image/png": "[encoded data removed]",
      "text/plain": [
       "<Figure size 432x288 with 1 Axes>"
      ]
     },
     "metadata": {
      "needs_background": "light"
     },
     "output_type": "display_data"
    }
   ],
   "source": [
    "# 時間発展のプロット\n",
    "plt.plot(tList, NList)"
   ]
  },
  {
   "cell_type": "markdown",
   "metadata": {},
   "source": [
    "Sympyを使う"
   ]
  },
  {
   "cell_type": "code",
   "execution_count": 23,
   "metadata": {},
   "outputs": [],
   "source": [
    "t, b, d = sym.symbols(\"t b d\")"
   ]
  },
  {
   "cell_type": "code",
   "execution_count": 24,
   "metadata": {},
   "outputs": [],
   "source": [
    "N = sym.Function('N')"
   ]
  },
  {
   "cell_type": "code",
   "execution_count": 25,
   "metadata": {},
   "outputs": [
    {
     "data": {
      "image/png": "[encoded data removed]",
      "text/latex": [
       "$\\displaystyle \\frac{d}{d t} N{\\left(t \\right)} = b N{\\left(t \\right)} - d N{\\left(t \\right)}$"
      ],
      "text/plain": [
       "d                         \n",
       "──(N(t)) = b⋅N(t) - d⋅N(t)\n",
       "dt                        "
      ]
     },
     "execution_count": 25,
     "metadata": {},
     "output_type": "execute_result"
    }
   ],
   "source": [
    "mal_eq1 = sym.Eq(N(t).diff(t, 1), b * N(t) - d * N(t))\n",
    "mal_eq1"
   ]
  },
  {
   "cell_type": "code",
   "execution_count": 26,
   "metadata": {},
   "outputs": [
    {
     "data": {
      "text/plain": [
       "('separable',\n",
       " '1st_exact',\n",
       " '1st_linear',\n",
       " 'almost_linear',\n",
       " '1st_power_series',\n",
       " 'lie_group',\n",
       " 'nth_linear_constant_coeff_homogeneous',\n",
       " 'separable_Integral',\n",
       " '1st_exact_Integral',\n",
       " '1st_linear_Integral',\n",
       " 'almost_linear_Integral')"
      ]
     },
     "execution_count": 26,
     "metadata": {},
     "output_type": "execute_result"
    }
   ],
   "source": [
    "#型判定\n",
    "ode.classify_ode(mal_eq1)"
   ]
  },
  {
   "cell_type": "code",
   "execution_count": 27,
   "metadata": {},
   "outputs": [
    {
     "data": {
      "image/png": "[encoded data removed]",
      "text/latex": [
       "$\\displaystyle N{\\left(t \\right)} = C_{1} e^{t \\left(b - d\\right)}$"
      ],
      "text/plain": [
       "           t⋅(b - d)\n",
       "N(t) = C₁⋅ℯ         "
      ]
     },
     "execution_count": 27,
     "metadata": {},
     "output_type": "execute_result"
    }
   ],
   "source": [
    "# 一般解\n",
    "mal_ans1 = sym.dsolve(mal_eq1, hint = \"separable\")\n",
    "mal_ans1"
   ]
  },
  {
   "cell_type": "code",
   "execution_count": 28,
   "metadata": {},
   "outputs": [
    {
     "data": {
      "image/png": "[encoded data removed]",
      "text/latex": [
       "$\\displaystyle N{\\left(t \\right)} = e^{t \\left(b - d\\right)}$"
      ],
      "text/plain": [
       "        t⋅(b - d)\n",
       "N(t) = ℯ         "
      ]
     },
     "execution_count": 28,
     "metadata": {},
     "output_type": "execute_result"
    }
   ],
   "source": [
    "# 特殊解\n",
    "mal_ans2 = sym.dsolve(mal_eq1, ics={N(0):1}, hint = \"separable\")\n",
    "mal_ans2"
   ]
  },
  {
   "cell_type": "code",
   "execution_count": 29,
   "metadata": {},
   "outputs": [
    {
     "data": {
      "image/png": "[encoded data removed]",
      "text/plain": [
       "<Figure size 432x288 with 1 Axes>"
      ]
     },
     "metadata": {
      "needs_background": "light"
     },
     "output_type": "display_data"
    },
    {
     "data": {
      "text/plain": [
       "<sympy.plotting.plot.Plot at 0x10dce8908>"
      ]
     },
     "execution_count": 29,
     "metadata": {},
     "output_type": "execute_result"
    }
   ],
   "source": [
    "#グラフ\n",
    "mal_ans3 = mal_ans2.subs([(b, 0.3), (d, 0)])\n",
    "plot(mal_ans3.rhs, (t, 0, 10))"
   ]
  },
  {
   "cell_type": "markdown",
   "metadata": {},
   "source": [
    "### Gompertz増殖\n",
    "$$\n",
    "\\frac{dN}{dt} = R(t) N\n",
    "$$\n",
    "\n",
    "特に\n",
    "$$\n",
    "R(t)=e^{(-t/a)}\n",
    "$$"
   ]
  },
  {
   "cell_type": "code",
   "execution_count": 30,
   "metadata": {},
   "outputs": [],
   "source": [
    "t, b, d, a = sym.symbols(\"t b d a\")"
   ]
  },
  {
   "cell_type": "code",
   "execution_count": 31,
   "metadata": {},
   "outputs": [],
   "source": [
    "N = sym.Function('N')\n",
    "R = sym.Function('R')"
   ]
  },
  {
   "cell_type": "code",
   "execution_count": 32,
   "metadata": {},
   "outputs": [
    {
     "data": {
      "image/png": "[encoded data removed]",
      "text/latex": [
       "$\\displaystyle \\frac{d}{d t} N{\\left(t \\right)} = N{\\left(t \\right)} R{\\left(t \\right)}$"
      ],
      "text/plain": [
       "d                   \n",
       "──(N(t)) = N(t)⋅R(t)\n",
       "dt                  "
      ]
     },
     "execution_count": 32,
     "metadata": {},
     "output_type": "execute_result"
    }
   ],
   "source": [
    "gom_eq1 = sym.Eq(sym.Derivative(N(t)), R(t) * N(t))\n",
    "gom_eq1"
   ]
  },
  {
   "cell_type": "code",
   "execution_count": 33,
   "metadata": {},
   "outputs": [
    {
     "data": {
      "image/png": "[encoded data removed]",
      "text/latex": [
       "$\\displaystyle N{\\left(t \\right)} = C_{1} e^{\\int R{\\left(t \\right)}\\, dt}$"
      ],
      "text/plain": [
       "           ⌠        \n",
       "           ⎮ R(t) dt\n",
       "           ⌡        \n",
       "N(t) = C₁⋅ℯ         "
      ]
     },
     "execution_count": 33,
     "metadata": {},
     "output_type": "execute_result"
    }
   ],
   "source": [
    "# 一般解\n",
    "gom_ans1 = sym.dsolve(gom_eq1, hint = \"separable\")\n",
    "gom_ans1"
   ]
  },
  {
   "cell_type": "code",
   "execution_count": 34,
   "metadata": {},
   "outputs": [
    {
     "data": {
      "image/png": "[encoded data removed]",
      "text/latex": [
       "$\\displaystyle N{\\left(t \\right)} = \\left(e^{\\int R{\\left(t \\right)}\\, dt}\\right) e^{- \\int\\limits^{0} R{\\left(t \\right)}\\, dt}$"
      ],
      "text/plain": [
       "                    0        \n",
       "                    ⌠        \n",
       "        ⌠          -⎮ R(t) dt\n",
       "        ⎮ R(t) dt   ⌡        \n",
       "        ⌡                    \n",
       "N(t) = ℯ         ⋅ℯ          "
      ]
     },
     "execution_count": 34,
     "metadata": {},
     "output_type": "execute_result"
    }
   ],
   "source": [
    "# 特殊解\n",
    "gom_ans2 = sym.dsolve(gom_eq1, ics={N(0):1}, hint = \"separable\")\n",
    "gom_ans2"
   ]
  },
  {
   "cell_type": "code",
   "execution_count": 35,
   "metadata": {},
   "outputs": [
    {
     "data": {
      "image/png": "[encoded data removed]",
      "text/latex": [
       "$\\displaystyle N{\\left(t \\right)} = e^{2 t}$"
      ],
      "text/plain": [
       "        2⋅t\n",
       "N(t) = ℯ   "
      ]
     },
     "execution_count": 35,
     "metadata": {},
     "output_type": "execute_result"
    }
   ],
   "source": [
    "# 指数増加（減衰も同様），N(0)→1，R(t)=2\n",
    "gom_eq2 = gom_eq1.subs({R(t):2})\n",
    "\n",
    "gom_ans3 = sym.dsolve(gom_eq2, ics={N(0):1})\n",
    "gom_ans3"
   ]
  },
  {
   "cell_type": "code",
   "execution_count": 36,
   "metadata": {},
   "outputs": [
    {
     "data": {
      "image/png": "[encoded data removed]",
      "text/plain": [
       "<Figure size 432x288 with 1 Axes>"
      ]
     },
     "metadata": {
      "needs_background": "light"
     },
     "output_type": "display_data"
    },
    {
     "data": {
      "text/plain": [
       "<sympy.plotting.plot.Plot at 0x10e1e34a8>"
      ]
     },
     "execution_count": 36,
     "metadata": {},
     "output_type": "execute_result"
    }
   ],
   "source": [
    "plot(gom_ans3.rhs, (t, 0, 5))"
   ]
  },
  {
   "cell_type": "code",
   "execution_count": 37,
   "metadata": {},
   "outputs": [
    {
     "data": {
      "image/png": "[encoded data removed]",
      "text/latex": [
       "$\\displaystyle \\frac{d}{d t} N{\\left(t \\right)} = N{\\left(t \\right)} e^{- \\frac{t}{3}}$"
      ],
      "text/plain": [
       "                 -t \n",
       "                 ───\n",
       "d                 3 \n",
       "──(N(t)) = N(t)⋅ℯ   \n",
       "dt                  "
      ]
     },
     "execution_count": 37,
     "metadata": {},
     "output_type": "execute_result"
    }
   ],
   "source": [
    "# 増加の飽和，N(0)→1，R(t)=e^(-t/3)\n",
    "gom_eq3 = gom_eq1.subs({R(t):sym.exp(-t/3)})\n",
    "gom_eq3"
   ]
  },
  {
   "cell_type": "code",
   "execution_count": 38,
   "metadata": {},
   "outputs": [
    {
     "data": {
      "image/png": "[encoded data removed]",
      "text/plain": [
       "<Figure size 432x288 with 1 Axes>"
      ]
     },
     "metadata": {
      "needs_background": "light"
     },
     "output_type": "display_data"
    },
    {
     "data": {
      "text/plain": [
       "<sympy.plotting.plot.Plot at 0x10e24cef0>"
      ]
     },
     "execution_count": 38,
     "metadata": {},
     "output_type": "execute_result"
    }
   ],
   "source": [
    "#増加率減少\n",
    "plot(sym.exp(-t/3), (t, 0, 5))"
   ]
  },
  {
   "cell_type": "code",
   "execution_count": 39,
   "metadata": {},
   "outputs": [
    {
     "data": {
      "image/png": "[encoded data removed]",
      "text/latex": [
       "$\\displaystyle N{\\left(t \\right)} = e^{3} e^{- 3 e^{- \\frac{t}{3}}}$"
      ],
      "text/plain": [
       "               -t \n",
       "               ───\n",
       "                3 \n",
       "        3  -3⋅ℯ   \n",
       "N(t) = ℯ ⋅ℯ       "
      ]
     },
     "execution_count": 39,
     "metadata": {},
     "output_type": "execute_result"
    }
   ],
   "source": [
    "gom_ans4 = sym.dsolve(gom_eq3, ics={N(0):1})\n",
    "gom_ans4"
   ]
  },
  {
   "cell_type": "code",
   "execution_count": 40,
   "metadata": {},
   "outputs": [
    {
     "data": {
      "image/png": "[encoded data removed]",
      "text/plain": [
       "<Figure size 432x288 with 1 Axes>"
      ]
     },
     "metadata": {
      "needs_background": "light"
     },
     "output_type": "display_data"
    },
    {
     "data": {
      "text/plain": [
       "<sympy.plotting.plot.Plot at 0x10def9b70>"
      ]
     },
     "execution_count": 40,
     "metadata": {},
     "output_type": "execute_result"
    }
   ],
   "source": [
    "#gompertz曲線\n",
    "plot(gom_ans4.rhs, (t, 0, 30))"
   ]
  },
  {
   "cell_type": "markdown",
   "metadata": {},
   "source": [
    "### Logistic方程式"
   ]
  },
  {
   "cell_type": "markdown",
   "metadata": {},
   "source": [
    "logistic増殖\n",
    "$$\n",
    "\\frac{dN}{dt} = rN(1 - \\frac{N}{K})\n",
    "$$"
   ]
  },
  {
   "cell_type": "code",
   "execution_count": 41,
   "metadata": {},
   "outputs": [],
   "source": [
    "def logistic(N0, r, K, dt, tEnd):\n",
    "    # 初期値\n",
    "    N = N0\n",
    "    t = 0.0\n",
    "\n",
    "    # 時間の設定\n",
    "    iEnd = int(tEnd/dt)+1\n",
    "\n",
    "    NList = [N]\n",
    "    tList = [t]\n",
    "    for i in range(iEnd):\n",
    "        t = dt*i\n",
    "        NN = N + dt * (r * N * (1 - N/K))\n",
    "        N = NN\n",
    "        tList.append(t)\n",
    "        NList.append(N)\n",
    "    return (tList, NList)"
   ]
  },
  {
   "cell_type": "code",
   "execution_count": 42,
   "metadata": {},
   "outputs": [
    {
     "data": {
      "text/plain": [
       "[<matplotlib.lines.Line2D at 0x10df20780>]"
      ]
     },
     "execution_count": 42,
     "metadata": {},
     "output_type": "execute_result"
    },
    {
     "data": {
      "image/png": "[encoded data removed]",
      "text/plain": [
       "<Figure size 432x288 with 1 Axes>"
      ]
     },
     "metadata": {
      "needs_background": "light"
     },
     "output_type": "display_data"
    }
   ],
   "source": [
    "# モデルのパラメータ1 N0>K\n",
    "N0 = 10\n",
    "\n",
    "r = 1\n",
    "K = 5\n",
    "\n",
    "dt = 0.001\n",
    "tEnd=10\n",
    "\n",
    "tList, N1List = logistic(N0, r, K, dt, tEnd)\n",
    "\n",
    "# 時間発展のプロット\n",
    "plt.plot(tList, N1List)"
   ]
  },
  {
   "cell_type": "code",
   "execution_count": 43,
   "metadata": {},
   "outputs": [
    {
     "data": {
      "text/plain": [
       "[<matplotlib.lines.Line2D at 0x10e7a5278>]"
      ]
     },
     "execution_count": 43,
     "metadata": {},
     "output_type": "execute_result"
    },
    {
     "data": {
      "image/png": "[encoded data removed]",
      "text/plain": [
       "<Figure size 432x288 with 1 Axes>"
      ]
     },
     "metadata": {
      "needs_background": "light"
     },
     "output_type": "display_data"
    }
   ],
   "source": [
    "# モデルのパラメータ2 2/K<N0<K\n",
    "N0 = 3\n",
    "\n",
    "r = 1\n",
    "K = 5\n",
    "\n",
    "dt = 0.001\n",
    "tEnd=10\n",
    "\n",
    "tList, N2List = logistic(N0, r, K, dt, tEnd)\n",
    "\n",
    "# 時間発展のプロット\n",
    "plt.plot(tList, N2List)"
   ]
  },
  {
   "cell_type": "code",
   "execution_count": 44,
   "metadata": {},
   "outputs": [
    {
     "data": {
      "text/plain": [
       "[<matplotlib.lines.Line2D at 0x10e94c160>]"
      ]
     },
     "execution_count": 44,
     "metadata": {},
     "output_type": "execute_result"
    },
    {
     "data": {
      "image/png": "[encoded data removed]",
      "text/plain": [
       "<Figure size 432x288 with 1 Axes>"
      ]
     },
     "metadata": {
      "needs_background": "light"
     },
     "output_type": "display_data"
    }
   ],
   "source": [
    "# モデルのパラメータ3 N0<2/K\n",
    "N0 = 0.1\n",
    "\n",
    "r = 1\n",
    "K = 5\n",
    "\n",
    "dt = 0.001\n",
    "tEnd=10\n",
    "\n",
    "tList, N3List = logistic(N0, r, K, dt, tEnd)\n",
    "\n",
    "# 時間発展のプロット\n",
    "plt.plot(tList, N3List)"
   ]
  },
  {
   "cell_type": "code",
   "execution_count": 45,
   "metadata": {},
   "outputs": [
    {
     "data": {
      "text/plain": [
       "[<matplotlib.lines.Line2D at 0x10e9d4b70>]"
      ]
     },
     "execution_count": 45,
     "metadata": {},
     "output_type": "execute_result"
    },
    {
     "data": {
      "image/png": "[encoded data removed]",
      "text/plain": [
       "<Figure size 432x288 with 1 Axes>"
      ]
     },
     "metadata": {
      "needs_background": "light"
     },
     "output_type": "display_data"
    }
   ],
   "source": [
    "# 時間発展のプロット\n",
    "plt.plot(tList, N1List)\n",
    "plt.plot(tList, N2List)\n",
    "plt.plot(tList, N3List)"
   ]
  },
  {
   "cell_type": "code",
   "execution_count": 46,
   "metadata": {},
   "outputs": [],
   "source": [
    "t, r, K = sym.symbols(\"t r K\")\n",
    "N = sym.Function('N')"
   ]
  },
  {
   "cell_type": "code",
   "execution_count": 47,
   "metadata": {},
   "outputs": [
    {
     "data": {
      "image/png": "[encoded data removed]",
      "text/latex": [
       "$\\displaystyle \\frac{d}{d t} N{\\left(t \\right)} = r \\left(1 - \\frac{N{\\left(t \\right)}}{K}\\right) N{\\left(t \\right)}$"
      ],
      "text/plain": [
       "d            ⎛    N(t)⎞     \n",
       "──(N(t)) = r⋅⎜1 - ────⎟⋅N(t)\n",
       "dt           ⎝     K  ⎠     "
      ]
     },
     "execution_count": 47,
     "metadata": {},
     "output_type": "execute_result"
    }
   ],
   "source": [
    "#logistic方程式\n",
    "log_eq1 = sym.Eq(sym.Derivative(N(t)), r * N(t) * (1 - N(t)/K))\n",
    "log_eq1"
   ]
  },
  {
   "cell_type": "code",
   "execution_count": 48,
   "metadata": {},
   "outputs": [
    {
     "data": {
      "image/png": "[encoded data removed]",
      "text/latex": [
       "$\\displaystyle N{\\left(t \\right)} = \\frac{K e^{C_{1} K + r t}}{e^{C_{1} K + r t} - 1}$"
      ],
      "text/plain": [
       "           C₁⋅K + r⋅t \n",
       "        K⋅ℯ           \n",
       "N(t) = ───────────────\n",
       "        C₁⋅K + r⋅t    \n",
       "       ℯ           - 1"
      ]
     },
     "execution_count": 48,
     "metadata": {},
     "output_type": "execute_result"
    }
   ],
   "source": [
    "log_ans1 = sym.dsolve(log_eq1)\n",
    "log_ans1"
   ]
  },
  {
   "cell_type": "code",
   "execution_count": 49,
   "metadata": {},
   "outputs": [
    {
     "data": {
      "image/png": "[encoded data removed]",
      "text/latex": [
       "$\\displaystyle N{\\left(t \\right)} = \\frac{5}{1 - \\frac{e^{- t}}{2}}$"
      ],
      "text/plain": [
       "          5   \n",
       "N(t) = ───────\n",
       "            -t\n",
       "           ℯ  \n",
       "       1 - ───\n",
       "            2 "
      ]
     },
     "execution_count": 49,
     "metadata": {},
     "output_type": "execute_result"
    }
   ],
   "source": [
    "#収束1 N(0)=1\n",
    "log_eq2 = log_eq1.subs([(r, 1),(K,5)])\n",
    "\n",
    "log_ans2 = sym.dsolve(log_eq2, ics={N(0):10})\n",
    "log_ans2"
   ]
  },
  {
   "cell_type": "code",
   "execution_count": 50,
   "metadata": {},
   "outputs": [
    {
     "data": {
      "image/png": "[encoded data removed]",
      "text/plain": [
       "<Figure size 432x288 with 1 Axes>"
      ]
     },
     "metadata": {
      "needs_background": "light"
     },
     "output_type": "display_data"
    },
    {
     "data": {
      "text/plain": [
       "<sympy.plotting.plot.Plot at 0x10ec09b00>"
      ]
     },
     "execution_count": 50,
     "metadata": {},
     "output_type": "execute_result"
    }
   ],
   "source": [
    "plot(log_ans2.rhs, (t, 0, 10))"
   ]
  },
  {
   "cell_type": "code",
   "execution_count": 51,
   "metadata": {},
   "outputs": [
    {
     "data": {
      "image/png": "[encoded data removed]",
      "text/latex": [
       "$\\displaystyle N{\\left(t \\right)} = \\frac{5}{1 + \\frac{2 e^{- t}}{3}}$"
      ],
      "text/plain": [
       "           5    \n",
       "N(t) = ─────────\n",
       "              -t\n",
       "           2⋅ℯ  \n",
       "       1 + ─────\n",
       "             3  "
      ]
     },
     "execution_count": 51,
     "metadata": {},
     "output_type": "execute_result"
    }
   ],
   "source": [
    "#収束2 N(0)=3\n",
    "log_eq3 = log_eq1.subs([(r, 1),(K,5)])\n",
    "\n",
    "log_ans3 = sym.dsolve(log_eq3, ics={N(0):3})\n",
    "log_ans3"
   ]
  },
  {
   "cell_type": "code",
   "execution_count": 52,
   "metadata": {},
   "outputs": [
    {
     "data": {
      "image/png": "[encoded data removed]",
      "text/plain": [
       "<Figure size 432x288 with 1 Axes>"
      ]
     },
     "metadata": {
      "needs_background": "light"
     },
     "output_type": "display_data"
    },
    {
     "data": {
      "text/plain": [
       "<sympy.plotting.plot.Plot at 0x10ed71d68>"
      ]
     },
     "execution_count": 52,
     "metadata": {},
     "output_type": "execute_result"
    }
   ],
   "source": [
    "plot(log_ans3.rhs, (t, 0, 10))"
   ]
  },
  {
   "cell_type": "code",
   "execution_count": 53,
   "metadata": {},
   "outputs": [
    {
     "data": {
      "image/png": "[encoded data removed]",
      "text/latex": [
       "$\\displaystyle N{\\left(t \\right)} = \\frac{5}{1 + 49.0 e^{- t}}$"
      ],
      "text/plain": [
       "            5      \n",
       "N(t) = ────────────\n",
       "                 -t\n",
       "       1 + 49.0⋅ℯ  "
      ]
     },
     "execution_count": 53,
     "metadata": {},
     "output_type": "execute_result"
    }
   ],
   "source": [
    "#収束3 N(0)=0.1\n",
    "log_eq4 = log_eq1.subs([(r, 1),(K,5)])\n",
    "\n",
    "log_ans4 = sym.dsolve(log_eq4, ics={N(0):0.1})\n",
    "log_ans4"
   ]
  },
  {
   "cell_type": "code",
   "execution_count": 54,
   "metadata": {},
   "outputs": [
    {
     "data": {
      "image/png": "[encoded data removed]",
      "text/plain": [
       "<Figure size 432x288 with 1 Axes>"
      ]
     },
     "metadata": {
      "needs_background": "light"
     },
     "output_type": "display_data"
    },
    {
     "data": {
      "text/plain": [
       "<sympy.plotting.plot.Plot at 0x10ee7f630>"
      ]
     },
     "execution_count": 54,
     "metadata": {},
     "output_type": "execute_result"
    }
   ],
   "source": [
    "plot(log_ans4.rhs, (t, 0, 10))"
   ]
  },
  {
   "cell_type": "code",
   "execution_count": 55,
   "metadata": {},
   "outputs": [
    {
     "data": {
      "image/png": "[encoded data removed]",
      "text/plain": [
       "<Figure size 432x288 with 1 Axes>"
      ]
     },
     "metadata": {
      "needs_background": "light"
     },
     "output_type": "display_data"
    },
    {
     "data": {
      "text/plain": [
       "<sympy.plotting.plot.Plot at 0x10efd99e8>"
      ]
     },
     "execution_count": 55,
     "metadata": {},
     "output_type": "execute_result"
    }
   ],
   "source": [
    "# 時間発展のプロット\n",
    "plot(log_ans2.rhs, log_ans3.rhs, log_ans4.rhs, (t, 0, 10))"
   ]
  },
  {
   "cell_type": "markdown",
   "metadata": {},
   "source": [
    "### 捕食者ー被食者モデルにおけるLotka-Volterra方程式（発展）\n",
    "\n",
    "定義式：\n",
    "$$\n",
    "\\frac{dN}{d\\tau} = N(\\alpha-bP), \\\\\n",
    "\\frac{dP}{d\\tau} = P(cN-d)\n",
    "$$\n",
    "\n",
    "N(t)：被食者，P(t)：捕食者，各係数について，\n",
    "\n",
    "(1) αN：被食者の自然増加\n",
    "\n",
    "(2) -bNP：被食者の捕食による減少\n",
    "\n",
    "(3) -dP：捕食者の自然減少\n",
    "\n",
    "(4) cNP：捕食者の捕食による増加\n",
    "\n",
    "ここで，無次元化を行うことで値の相対的評価を可能にする。\n",
    "\n",
    "$$\n",
    "u = \\frac{cN}{d}, \\\\\n",
    "v = \\frac{bP}{\\alpha}, \\\\\n",
    "t = a \\tau, \\\\\n",
    "a = \\frac{d}{\\alpha}\n",
    "$$\n",
    "\n",
    "\n",
    "定義式（無次元化）：\n",
    "$$\n",
    "\\frac{du}{dt} = u(1-v), \\\\\n",
    "\\frac{dv}{dt} = av(u-1)\n",
    "$$\n",
    "\n",
    "u：被食者，v：捕食者，a：捕食者の強さ/被食者の強さ，と考える\n",
    "\n",
    "解析解を得るのは困難，まず局所安定性を調べる。"
   ]
  },
  {
   "cell_type": "code",
   "execution_count": 56,
   "metadata": {},
   "outputs": [],
   "source": [
    "u, v, t, a = sym.symbols(\"u v t a\")"
   ]
  },
  {
   "cell_type": "code",
   "execution_count": 57,
   "metadata": {},
   "outputs": [
    {
     "data": {
      "image/png": "[encoded data removed]",
      "text/latex": [
       "$\\displaystyle \\left[ \\left( 0, \\  0\\right), \\  \\left( 1, \\  1\\right)\\right]$"
      ],
      "text/plain": [
       "[(0, 0), (1, 1)]"
      ]
     },
     "execution_count": 57,
     "metadata": {},
     "output_type": "execute_result"
    }
   ],
   "source": [
    "sym.solve(\n",
    "    [\n",
    "        sym.Eq(u*(1-v), 0),\n",
    "        sym.Eq(a*v*(u-1), 0)\n",
    "    ], [u, v])"
   ]
  },
  {
   "cell_type": "markdown",
   "metadata": {},
   "source": [
    "平衡点は（0,0）（1,1）にある。\n",
    "ここで，ヤコビ行列は"
   ]
  },
  {
   "cell_type": "code",
   "execution_count": 58,
   "metadata": {},
   "outputs": [
    {
     "data": {
      "text/latex": [
       "$\\displaystyle \\left[\\begin{matrix}1 - v & - u\\\\a v & a \\left(u - 1\\right)\\end{matrix}\\right]$"
      ],
      "text/plain": [
       "⎡1 - v     -u    ⎤\n",
       "⎢                ⎥\n",
       "⎣ a⋅v   a⋅(u - 1)⎦"
      ]
     },
     "execution_count": 58,
     "metadata": {},
     "output_type": "execute_result"
    }
   ],
   "source": [
    "F = sym.Matrix([u*(1-v), a*v*(u-1)])\n",
    "X = sym.Matrix([u, v])\n",
    "J = F.jacobian(X)\n",
    "J"
   ]
  },
  {
   "cell_type": "markdown",
   "metadata": {},
   "source": [
    "(0,0)のとき，"
   ]
  },
  {
   "cell_type": "code",
   "execution_count": 59,
   "metadata": {},
   "outputs": [
    {
     "data": {
      "text/latex": [
       "$\\displaystyle \\left[\\begin{matrix}1 & 0\\\\0 & - a\\end{matrix}\\right]$"
      ],
      "text/plain": [
       "⎡1  0 ⎤\n",
       "⎢     ⎥\n",
       "⎣0  -a⎦"
      ]
     },
     "execution_count": 59,
     "metadata": {},
     "output_type": "execute_result"
    }
   ],
   "source": [
    "J1 = J.subs([[u, 0], [v, 0]])\n",
    "J1"
   ]
  },
  {
   "cell_type": "markdown",
   "metadata": {},
   "source": [
    "このヤコビ行列の最大固有値を調べれば良い．すなわち，\n",
    "$$\n",
    "|\\mathbf{J}_1 - \\lambda \\mathbf{I}| = 0\n",
    "$$\n",
    "を$\\lambda$について解き，一番大きな$\\lambda$を調べる．"
   ]
  },
  {
   "cell_type": "code",
   "execution_count": 60,
   "metadata": {},
   "outputs": [],
   "source": [
    "λ = sym.symbols(\"λ\")\n",
    "I = sym.eye(2)"
   ]
  },
  {
   "cell_type": "code",
   "execution_count": 61,
   "metadata": {},
   "outputs": [
    {
     "data": {
      "image/png": "[encoded data removed]",
      "text/latex": [
       "$\\displaystyle \\left(1 - λ\\right) \\left(- a - λ\\right)$"
      ],
      "text/plain": [
       "(1 - λ)⋅(-a - λ)"
      ]
     },
     "execution_count": 61,
     "metadata": {},
     "output_type": "execute_result"
    }
   ],
   "source": [
    "(J1 - λ*I).det()"
   ]
  },
  {
   "cell_type": "code",
   "execution_count": 62,
   "metadata": {},
   "outputs": [
    {
     "data": {
      "image/png": "[encoded data removed]",
      "text/latex": [
       "$\\displaystyle \\left[ 1, \\  - a\\right]$"
      ],
      "text/plain": [
       "[1, -a]"
      ]
     },
     "execution_count": 62,
     "metadata": {},
     "output_type": "execute_result"
    }
   ],
   "source": [
    "sym.solve(\n",
    "    sym.Eq((J1 - λ*I).det(), 0),\n",
    "    λ)"
   ]
  },
  {
   "cell_type": "code",
   "execution_count": 63,
   "metadata": {},
   "outputs": [
    {
     "data": {
      "image/png": "[encoded data removed]",
      "text/latex": [
       "$\\displaystyle \\left\\{ 1 : 1, \\  - a : 1\\right\\}$"
      ],
      "text/plain": [
       "{1: 1, -a: 1}"
      ]
     },
     "execution_count": 63,
     "metadata": {},
     "output_type": "execute_result"
    }
   ],
   "source": [
    "J1.eigenvals()"
   ]
  },
  {
   "cell_type": "markdown",
   "metadata": {},
   "source": [
    "一つの固有値が正なので，uとvは指数関数的に増大→不安定"
   ]
  },
  {
   "cell_type": "markdown",
   "metadata": {},
   "source": [
    "(1,1)のとき"
   ]
  },
  {
   "cell_type": "code",
   "execution_count": 64,
   "metadata": {},
   "outputs": [
    {
     "data": {
      "text/latex": [
       "$\\displaystyle \\left[\\begin{matrix}0 & -1\\\\a & 0\\end{matrix}\\right]$"
      ],
      "text/plain": [
       "⎡0  -1⎤\n",
       "⎢     ⎥\n",
       "⎣a  0 ⎦"
      ]
     },
     "execution_count": 64,
     "metadata": {},
     "output_type": "execute_result"
    }
   ],
   "source": [
    "J2 = J.subs([[u, 1], [v, 1]])\n",
    "J2"
   ]
  },
  {
   "cell_type": "code",
   "execution_count": 65,
   "metadata": {},
   "outputs": [
    {
     "data": {
      "image/png": "[encoded data removed]",
      "text/latex": [
       "$\\displaystyle a + λ^{2}$"
      ],
      "text/plain": [
       "     2\n",
       "a + λ "
      ]
     },
     "execution_count": 65,
     "metadata": {},
     "output_type": "execute_result"
    }
   ],
   "source": [
    "(J2 - λ*I).det()"
   ]
  },
  {
   "cell_type": "code",
   "execution_count": 66,
   "metadata": {},
   "outputs": [
    {
     "data": {
      "image/png": "[encoded data removed]",
      "text/latex": [
       "$\\displaystyle \\left[ - \\sqrt{- a}, \\  \\sqrt{- a}\\right]$"
      ],
      "text/plain": [
       "⎡   ____    ____⎤\n",
       "⎣-╲╱ -a , ╲╱ -a ⎦"
      ]
     },
     "execution_count": 66,
     "metadata": {},
     "output_type": "execute_result"
    }
   ],
   "source": [
    "sym.solve(\n",
    "    sym.Eq((J2 - λ*I).det(), 0),\n",
    "    λ)"
   ]
  },
  {
   "cell_type": "code",
   "execution_count": 67,
   "metadata": {},
   "outputs": [
    {
     "data": {
      "image/png": "[encoded data removed]",
      "text/latex": [
       "$\\displaystyle \\left\\{ - \\sqrt{- a} : 1, \\  \\sqrt{- a} : 1\\right\\}$"
      ],
      "text/plain": [
       "⎧   ____       ____   ⎫\n",
       "⎨-╲╱ -a : 1, ╲╱ -a : 1⎬\n",
       "⎩                     ⎭"
      ]
     },
     "execution_count": 67,
     "metadata": {},
     "output_type": "execute_result"
    }
   ],
   "source": [
    "J2.eigenvals()"
   ]
  },
  {
   "cell_type": "markdown",
   "metadata": {},
   "source": [
    "$$\n",
    "\\lambda_1, \\ \\lambda_2 = \\pm i \\sqrt{a}\n",
    "$$\n",
    "で固有値が純虚数なので，特異点(1,1)は渦心点である，実部は0→中立安定"
   ]
  },
  {
   "cell_type": "code",
   "execution_count": 68,
   "metadata": {},
   "outputs": [],
   "source": [
    "import numpy as np\n",
    "import matplotlib.pyplot as plt\n",
    "%matplotlib inline"
   ]
  },
  {
   "cell_type": "code",
   "execution_count": 69,
   "metadata": {},
   "outputs": [],
   "source": [
    "# 流線プロットによるベクトル場の可視化\n",
    "def plotVecField(a, rangeU, rangeV, meshU, meshV, sol=None):\n",
    "    U = meshU - meshU*meshV\n",
    "    V = a * meshV*meshU - a * meshV\n",
    "\n",
    "    M = np.sqrt(U**2 + V**2)\n",
    "\n",
    "    # アイソクライン\n",
    "    lineX1 = np.linspace(rangeU[0], rangeU[1], 100)\n",
    "    lineX2 = np.array([1 for i in range(100)])\n",
    "    isocline1 = np.array([1 for i in range(100)])\n",
    "    isocline2 = np.linspace(rangeV[0], rangeV[1], 100)\n",
    "\n",
    "    # 作図\n",
    "    fig, axes = plt.subplots(figsize=(8, 8))\n",
    "    strm = plt.streamplot(meshU, meshV, U, V, color=M, density=(0.8, 0.8), linewidth=1,\n",
    "                          arrowsize=2, cmap='gist_rainbow_r')\n",
    "    fig.colorbar(strm.lines)\n",
    "    axes.set_aspect(\"equal\")\n",
    "    axes.set_title('Predator-Prey')\n",
    "    plt.plot(lineX1, isocline1, \"b--\", linewidth=3)\n",
    "    plt.plot(lineX2, isocline2, \"r--\", linewidth=3)\n",
    "    plt.plot(0, 0, \"ko\", 1, 1, \"ko\", markersize=8)\n",
    "    plt.xlim(rangeU[0]-0.05, rangeU[1])\n",
    "    plt.ylim(rangeV[0]-0.05, rangeV[1])\n",
    "    plt.xlabel(\"Prey\")\n",
    "    plt.ylabel(\"Predator\")\n",
    "\n",
    "    if sol is not None:\n",
    "        plt.plot(sol[0], sol[1], \".\", linewidth=2)"
   ]
  },
  {
   "cell_type": "code",
   "execution_count": 70,
   "metadata": {},
   "outputs": [
    {
     "data": {
      "image/png": "[encoded data removed]",
      "text/plain": [
       "<Figure size 576x576 with 2 Axes>"
      ]
     },
     "metadata": {
      "needs_background": "light"
     },
     "output_type": "display_data"
    }
   ],
   "source": [
    "rangeU = (0, 2.0)\n",
    "rangeV = (0, 2.0)\n",
    "meshU, meshV = np.meshgrid(\n",
    "    np.arange(rangeU[0], rangeU[1], .01),\n",
    "    np.arange(rangeV[0], rangeV[1], .01))\n",
    "\n",
    "a = 1.5\n",
    "\n",
    "U = meshU - meshU*meshV\n",
    "V = a * meshV*meshU - a * meshV\n",
    "\n",
    "plotVecField(a, rangeU, rangeV, meshU, meshV, sol=None)"
   ]
  },
  {
   "cell_type": "code",
   "execution_count": 71,
   "metadata": {},
   "outputs": [],
   "source": [
    "# 初期値\n",
    "u = 1.25\n",
    "v = 0.66\n",
    "t = 0.0\n",
    "a = 1.5\n",
    "\n",
    "# 時間の設定\n",
    "dt = 0.0001\n",
    "tEnd = 20\n",
    "iEnd = int(tEnd/dt)+1\n",
    "\n",
    "uList = [u]\n",
    "vList = [v]\n",
    "tList = [t]\n",
    "for i in range(iEnd):\n",
    "    t = dt*i\n",
    "    uu = u + dt*u*(1-v)\n",
    "    vv = v + dt*a*v*(u-1)\n",
    "    u = uu\n",
    "    v = vv\n",
    "    tList.append(t)\n",
    "    uList.append(u)\n",
    "    vList.append(v)"
   ]
  },
  {
   "cell_type": "code",
   "execution_count": 72,
   "metadata": {},
   "outputs": [
    {
     "data": {
      "text/plain": [
       "<matplotlib.legend.Legend at 0x1105aaba8>"
      ]
     },
     "execution_count": 72,
     "metadata": {},
     "output_type": "execute_result"
    },
    {
     "data": {
      "image/png": "[encoded data removed]",
      "text/plain": [
       "<Figure size 432x288 with 1 Axes>"
      ]
     },
     "metadata": {
      "needs_background": "light"
     },
     "output_type": "display_data"
    }
   ],
   "source": [
    "# 時間発展のプロット\n",
    "plt.plot(tList, uList)\n",
    "plt.plot(tList, vList)\n",
    "plt.legend([\"Prey\", \"Predator\"], loc='upper right')"
   ]
  },
  {
   "cell_type": "code",
   "execution_count": 73,
   "metadata": {},
   "outputs": [
    {
     "data": {
      "text/plain": [
       "Text(0, 0.5, 'Predator')"
      ]
     },
     "execution_count": 73,
     "metadata": {},
     "output_type": "execute_result"
    },
    {
     "data": {
      "image/png": "[encoded data removed]",
      "text/plain": [
       "<Figure size 432x288 with 1 Axes>"
      ]
     },
     "metadata": {
      "needs_background": "light"
     },
     "output_type": "display_data"
    }
   ],
   "source": [
    "# 相図\n",
    "plt.plot(uList, vList)\n",
    "plt.xlabel(\"Prey\")\n",
    "plt.ylabel(\"Predator\")"
   ]
  },
  {
   "cell_type": "code",
   "execution_count": 74,
   "metadata": {},
   "outputs": [
    {
     "data": {
      "image/png": "[encoded data removed]",
      "text/plain": [
       "<Figure size 576x576 with 2 Axes>"
      ]
     },
     "metadata": {
      "needs_background": "light"
     },
     "output_type": "display_data"
    }
   ],
   "source": [
    "rangeU = (0, 2.0)\n",
    "rangeV = (0, 2.0)\n",
    "meshU, meshV = np.meshgrid(\n",
    "    np.arange(rangeU[0], rangeU[1], .01),\n",
    "    np.arange(rangeV[0], rangeV[1], .01))\n",
    "\n",
    "a = 1.5\n",
    "\n",
    "U = meshU - meshU*meshV\n",
    "V = a * meshV*meshU - a * meshV\n",
    "\n",
    "plotVecField(a, rangeU, rangeV, meshU, meshV, sol=[uList, vList])"
   ]
  },
  {
   "cell_type": "markdown",
   "metadata": {},
   "source": [
    "## 練習：薬物動態シミュレーション"
   ]
  },
  {
   "cell_type": "markdown",
   "metadata": {},
   "source": [
    "### 急速静注\n",
    "\n",
    "定義式\n",
    "$$\n",
    "\\frac{dX}{dt} = - k_e X\n",
    "$$\n",
    "\n",
    "(1) 定義式を表示せよ\n",
    "\n",
    "(2) 一般解を求めよ\n",
    "\n",
    "(3) 初期値100のときの特殊解を求めよ\n",
    "\n",
    "(4) (3)においてk_e = 0.693のときのグラフを表示せよ"
   ]
  },
  {
   "cell_type": "markdown",
   "metadata": {},
   "source": [
    "### 経口投与\n",
    "定義式\n",
    "$$\n",
    "\\frac{dX}{dt} = k_a X_a - k_e X \\ ...(A) , \\\\\n",
    "\\frac{dX_a}{dt} = - k_a X_a \\ ...(B)\n",
    "$$\n",
    "\n",
    "(1) 2つの定義式をそれぞれ表示せよ\n",
    "\n",
    "(2) X_a の初期値が F ・ D のときの(B)の特殊解を求めよ\n",
    "\n",
    "(3) (2)の結果より，(A)にX_aの値を代入せよ（.replaceを用いる）\n",
    "\n",
    "(4) Cの初期値100のときの特殊解を求めよ\n",
    "\n",
    "(5) (4)においてF = 0.8, D = 100, k_e = 0.15, k_a = 0.8のときのグラフを表示せよ"
   ]
  },
  {
   "cell_type": "markdown",
   "metadata": {},
   "source": [
    "# 量子コンピュータ基礎"
   ]
  },
  {
   "cell_type": "markdown",
   "metadata": {},
   "source": [
    "https://github.com/qulacs/quantum-native-dojo%7C"
   ]
  },
  {
   "cell_type": "code",
   "execution_count": null,
   "metadata": {},
   "outputs": [],
   "source": []
  }
 ],
 "metadata": {
  "kernelspec": {
   "display_name": "Python 3",
   "language": "python",
   "name": "python3"
  },
  "language_info": {
   "codemirror_mode": {
    "name": "ipython",
    "version": 3
   },
   "file_extension": ".py",
   "mimetype": "text/x-python",
   "name": "python",
   "nbconvert_exporter": "python",
   "pygments_lexer": "ipython3",
   "version": "3.6.6"
  },
  "toc": {
   "base_numbering": 1,
   "nav_menu": {},
   "number_sections": true,
   "sideBar": true,
   "skip_h1_title": false,
   "title_cell": "Table of Contents",
   "title_sidebar": "Contents",
   "toc_cell": false,
   "toc_position": {},
   "toc_section_display": true,
   "toc_window_display": false
  }
 },
 "nbformat": 4,
 "nbformat_minor": 2
}
